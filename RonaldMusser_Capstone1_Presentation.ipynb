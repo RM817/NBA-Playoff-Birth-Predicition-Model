{
 "cells": [
  {
   "cell_type": "markdown",
   "metadata": {},
   "source": [
    "# Predicting NBA Playoff Teams"
   ]
  },
  {
   "cell_type": "markdown",
   "metadata": {},
   "source": [
    "## Capstone 1: Ronald Musser  \n",
    "  \n",
    "  \n",
    "The full code can be found in the Capstone1_Data2 and Capstone1_Data2.ipynb files in the repository below.  \n",
    "https://github.com/RM817/NBA-Playoff-Birth-Predicition-Model"
   ]
  },
  {
   "cell_type": "markdown",
   "metadata": {},
   "source": [
    "### Introduction:"
   ]
  },
  {
   "cell_type": "markdown",
   "metadata": {},
   "source": [
    "Since 1984, teams in the National Basketball Association have battled with each other for the ultimate prize of winning an NBA championship.\n",
    "Before they crown a winner, 16 teams are chosen at the end of the year to play in a tournament called the playoffs. These 16 teams are typically\n",
    "the teams with the best records at the end of the season. However, the NBA season is quite long, lasting from October to June of the following\n",
    "year. Is it possible to accurately predict the playoff teams after the first full month of the NBA season?"
   ]
  },
  {
   "cell_type": "markdown",
   "metadata": {},
   "source": [
    "In order to predict the playoff teams, some sort of data is needed in order to analyze. While manually downloading statistics from a website is a viable option, there are many teams to analyze during the season along with a list of seasons. Therefore, it was advantageous to create a web scraping tool that allowed me to download each team's stats for the month of November for each year."
   ]
  },
  {
   "cell_type": "code",
   "execution_count": 2,
   "metadata": {},
   "outputs": [],
   "source": [
    "from bs4 import BeautifulSoup\n",
    "import matplotlib.pyplot as plt\n",
    "import re\n",
    "import requests\n",
    "import numpy as np\n",
    "import pandas as pd\n",
    "import operator\n",
    "%matplotlib inline\n",
    "\n",
    "\n",
    "#Pulls data from website for each team and each year. Then creates an array with all of the data.\n",
    "Team_List = ['ATL','BOS','CHI','CLE','DAL','DEN','DET','GSW','HOU','IND','KCK','LAL','MIL','NJN','NYK','PHI','PHO','POR','SAS','SDC','SEA','UTA','WSB']\n",
    "n = 0\n",
    "Year = '1984'\n",
    "Stats = np.zeros(shape = (len(Team_List),31))\n",
    "for team in Team_List:\n",
    "    url = 'https://www.basketball-reference.com/teams/{}/{}/splits/'.format(Team_List[n],Year)\n",
    "    page = requests.get(url)\n",
    "    content = BeautifulSoup(page.content, 'html.parser')\n",
    "    tdvalues = content.find_all('td')\n",
    "    Nov_Values = tdvalues[257:288]\n",
    "    c = []\n",
    "    for row in Nov_Values:\n",
    "        a = str(row)\n",
    "        b = a[a.index('>') + 1:a.index('</')]\n",
    "        c.append(b)\n",
    "    c = [float(x) for x in c]\n",
    "    Stats[n] = c\n",
    "    n +=1"
   ]
  },
  {
   "cell_type": "markdown",
   "metadata": {},
   "source": [
    "Above is code that creates an array of stats from the website *Basketball Reference* for each team during the 1984-1985 NBA season. The array that is created is useful, but deeper analysis can be conducted by creating a dataframe with these stats."
   ]
  },
  {
   "cell_type": "code",
   "execution_count": 3,
   "metadata": {},
   "outputs": [
    {
     "data": {
      "text/html": [
       "<div>\n",
       "<style scoped>\n",
       "    .dataframe tbody tr th:only-of-type {\n",
       "        vertical-align: middle;\n",
       "    }\n",
       "\n",
       "    .dataframe tbody tr th {\n",
       "        vertical-align: top;\n",
       "    }\n",
       "\n",
       "    .dataframe thead th {\n",
       "        text-align: right;\n",
       "    }\n",
       "</style>\n",
       "<table border=\"1\" class=\"dataframe\">\n",
       "  <thead>\n",
       "    <tr style=\"text-align: right;\">\n",
       "      <th></th>\n",
       "      <th>Team</th>\n",
       "      <th>Playoff Birth</th>\n",
       "      <th>G</th>\n",
       "      <th>W</th>\n",
       "      <th>L</th>\n",
       "      <th>Win%</th>\n",
       "      <th>FG</th>\n",
       "      <th>FGA</th>\n",
       "      <th>FG%</th>\n",
       "      <th>3P</th>\n",
       "      <th>3PA</th>\n",
       "      <th>3P%</th>\n",
       "      <th>FT</th>\n",
       "      <th>FTA</th>\n",
       "      <th>FT%</th>\n",
       "      <th>ORB</th>\n",
       "      <th>TRB</th>\n",
       "      <th>AST</th>\n",
       "      <th>STL</th>\n",
       "      <th>BLK</th>\n",
       "      <th>TOV</th>\n",
       "      <th>PF</th>\n",
       "      <th>PTS</th>\n",
       "      <th>OP-FG</th>\n",
       "      <th>OP-FGA</th>\n",
       "      <th>OP_FG Miss%</th>\n",
       "      <th>OP-3P</th>\n",
       "      <th>OP-3PA</th>\n",
       "      <th>OP_3P Miss%</th>\n",
       "      <th>OP-FT</th>\n",
       "      <th>OP-FTA</th>\n",
       "      <th>OP_FT Miss%</th>\n",
       "      <th>OP-ORB</th>\n",
       "      <th>OP-TRB</th>\n",
       "      <th>OP-AST</th>\n",
       "      <th>OP-STL</th>\n",
       "      <th>OP-BLK</th>\n",
       "      <th>OP-TOV</th>\n",
       "      <th>OP-PF</th>\n",
       "      <th>OP-PTS</th>\n",
       "    </tr>\n",
       "  </thead>\n",
       "  <tbody>\n",
       "    <tr>\n",
       "      <th>0</th>\n",
       "      <td>ATL</td>\n",
       "      <td>True</td>\n",
       "      <td>14.0</td>\n",
       "      <td>7.0</td>\n",
       "      <td>7.0</td>\n",
       "      <td>0.500000</td>\n",
       "      <td>39.4</td>\n",
       "      <td>80.4</td>\n",
       "      <td>0.490050</td>\n",
       "      <td>0.6</td>\n",
       "      <td>1.4</td>\n",
       "      <td>0.428571</td>\n",
       "      <td>21.1</td>\n",
       "      <td>30.1</td>\n",
       "      <td>0.700997</td>\n",
       "      <td>13.4</td>\n",
       "      <td>42.3</td>\n",
       "      <td>21.6</td>\n",
       "      <td>7.7</td>\n",
       "      <td>8.9</td>\n",
       "      <td>17.4</td>\n",
       "      <td>27.3</td>\n",
       "      <td>100.5</td>\n",
       "      <td>38.9</td>\n",
       "      <td>84.9</td>\n",
       "      <td>0.541814</td>\n",
       "      <td>0.4</td>\n",
       "      <td>1.9</td>\n",
       "      <td>0.789474</td>\n",
       "      <td>24.7</td>\n",
       "      <td>33.2</td>\n",
       "      <td>0.256024</td>\n",
       "      <td>15.8</td>\n",
       "      <td>44.6</td>\n",
       "      <td>23.2</td>\n",
       "      <td>7.1</td>\n",
       "      <td>4.9</td>\n",
       "      <td>15.9</td>\n",
       "      <td>25.5</td>\n",
       "      <td>102.9</td>\n",
       "    </tr>\n",
       "    <tr>\n",
       "      <th>1</th>\n",
       "      <td>BOS</td>\n",
       "      <td>True</td>\n",
       "      <td>15.0</td>\n",
       "      <td>11.0</td>\n",
       "      <td>4.0</td>\n",
       "      <td>0.733333</td>\n",
       "      <td>44.2</td>\n",
       "      <td>87.7</td>\n",
       "      <td>0.503991</td>\n",
       "      <td>0.6</td>\n",
       "      <td>2.3</td>\n",
       "      <td>0.260870</td>\n",
       "      <td>26.9</td>\n",
       "      <td>33.5</td>\n",
       "      <td>0.802985</td>\n",
       "      <td>15.4</td>\n",
       "      <td>45.9</td>\n",
       "      <td>27.6</td>\n",
       "      <td>7.6</td>\n",
       "      <td>4.8</td>\n",
       "      <td>17.3</td>\n",
       "      <td>23.9</td>\n",
       "      <td>115.9</td>\n",
       "      <td>43.6</td>\n",
       "      <td>92.4</td>\n",
       "      <td>0.528139</td>\n",
       "      <td>1.1</td>\n",
       "      <td>3.5</td>\n",
       "      <td>0.685714</td>\n",
       "      <td>20.8</td>\n",
       "      <td>27.3</td>\n",
       "      <td>0.238095</td>\n",
       "      <td>14.4</td>\n",
       "      <td>41.1</td>\n",
       "      <td>23.8</td>\n",
       "      <td>9.0</td>\n",
       "      <td>4.1</td>\n",
       "      <td>14.8</td>\n",
       "      <td>27.5</td>\n",
       "      <td>109.1</td>\n",
       "    </tr>\n",
       "    <tr>\n",
       "      <th>2</th>\n",
       "      <td>CHI</td>\n",
       "      <td>False</td>\n",
       "      <td>13.0</td>\n",
       "      <td>4.0</td>\n",
       "      <td>9.0</td>\n",
       "      <td>0.307692</td>\n",
       "      <td>41.0</td>\n",
       "      <td>88.4</td>\n",
       "      <td>0.463801</td>\n",
       "      <td>0.3</td>\n",
       "      <td>1.8</td>\n",
       "      <td>0.166667</td>\n",
       "      <td>23.6</td>\n",
       "      <td>31.5</td>\n",
       "      <td>0.749206</td>\n",
       "      <td>13.9</td>\n",
       "      <td>41.6</td>\n",
       "      <td>25.2</td>\n",
       "      <td>9.4</td>\n",
       "      <td>5.5</td>\n",
       "      <td>17.6</td>\n",
       "      <td>29.4</td>\n",
       "      <td>105.9</td>\n",
       "      <td>41.8</td>\n",
       "      <td>86.6</td>\n",
       "      <td>0.517321</td>\n",
       "      <td>0.5</td>\n",
       "      <td>2.2</td>\n",
       "      <td>0.772727</td>\n",
       "      <td>26.8</td>\n",
       "      <td>34.0</td>\n",
       "      <td>0.211765</td>\n",
       "      <td>14.3</td>\n",
       "      <td>46.9</td>\n",
       "      <td>25.4</td>\n",
       "      <td>10.8</td>\n",
       "      <td>8.6</td>\n",
       "      <td>17.6</td>\n",
       "      <td>26.4</td>\n",
       "      <td>110.9</td>\n",
       "    </tr>\n",
       "    <tr>\n",
       "      <th>3</th>\n",
       "      <td>CLE</td>\n",
       "      <td>False</td>\n",
       "      <td>15.0</td>\n",
       "      <td>5.0</td>\n",
       "      <td>10.0</td>\n",
       "      <td>0.333333</td>\n",
       "      <td>41.6</td>\n",
       "      <td>86.0</td>\n",
       "      <td>0.483721</td>\n",
       "      <td>0.8</td>\n",
       "      <td>2.6</td>\n",
       "      <td>0.307692</td>\n",
       "      <td>19.1</td>\n",
       "      <td>25.6</td>\n",
       "      <td>0.746094</td>\n",
       "      <td>14.3</td>\n",
       "      <td>44.0</td>\n",
       "      <td>23.1</td>\n",
       "      <td>7.6</td>\n",
       "      <td>5.2</td>\n",
       "      <td>17.1</td>\n",
       "      <td>28.0</td>\n",
       "      <td>103.1</td>\n",
       "      <td>40.6</td>\n",
       "      <td>85.1</td>\n",
       "      <td>0.522914</td>\n",
       "      <td>0.5</td>\n",
       "      <td>2.1</td>\n",
       "      <td>0.761905</td>\n",
       "      <td>24.1</td>\n",
       "      <td>32.7</td>\n",
       "      <td>0.262997</td>\n",
       "      <td>12.9</td>\n",
       "      <td>41.1</td>\n",
       "      <td>26.1</td>\n",
       "      <td>7.5</td>\n",
       "      <td>3.9</td>\n",
       "      <td>14.5</td>\n",
       "      <td>21.7</td>\n",
       "      <td>105.9</td>\n",
       "    </tr>\n",
       "    <tr>\n",
       "      <th>4</th>\n",
       "      <td>DAL</td>\n",
       "      <td>True</td>\n",
       "      <td>13.0</td>\n",
       "      <td>10.0</td>\n",
       "      <td>3.0</td>\n",
       "      <td>0.769231</td>\n",
       "      <td>42.4</td>\n",
       "      <td>89.3</td>\n",
       "      <td>0.474804</td>\n",
       "      <td>0.2</td>\n",
       "      <td>1.8</td>\n",
       "      <td>0.111111</td>\n",
       "      <td>25.4</td>\n",
       "      <td>33.8</td>\n",
       "      <td>0.751479</td>\n",
       "      <td>14.9</td>\n",
       "      <td>44.5</td>\n",
       "      <td>27.9</td>\n",
       "      <td>8.3</td>\n",
       "      <td>4.5</td>\n",
       "      <td>14.7</td>\n",
       "      <td>22.8</td>\n",
       "      <td>110.4</td>\n",
       "      <td>44.2</td>\n",
       "      <td>92.2</td>\n",
       "      <td>0.520607</td>\n",
       "      <td>0.9</td>\n",
       "      <td>2.9</td>\n",
       "      <td>0.689655</td>\n",
       "      <td>19.6</td>\n",
       "      <td>25.8</td>\n",
       "      <td>0.240310</td>\n",
       "      <td>16.6</td>\n",
       "      <td>45.2</td>\n",
       "      <td>26.7</td>\n",
       "      <td>7.8</td>\n",
       "      <td>4.8</td>\n",
       "      <td>17.6</td>\n",
       "      <td>29.0</td>\n",
       "      <td>109.0</td>\n",
       "    </tr>\n",
       "  </tbody>\n",
       "</table>\n",
       "</div>"
      ],
      "text/plain": [
       "  Team  Playoff Birth     G     W     L      Win%    FG   FGA       FG%   3P  \\\n",
       "0  ATL           True  14.0   7.0   7.0  0.500000  39.4  80.4  0.490050  0.6   \n",
       "1  BOS           True  15.0  11.0   4.0  0.733333  44.2  87.7  0.503991  0.6   \n",
       "2  CHI          False  13.0   4.0   9.0  0.307692  41.0  88.4  0.463801  0.3   \n",
       "3  CLE          False  15.0   5.0  10.0  0.333333  41.6  86.0  0.483721  0.8   \n",
       "4  DAL           True  13.0  10.0   3.0  0.769231  42.4  89.3  0.474804  0.2   \n",
       "\n",
       "   3PA       3P%    FT   FTA       FT%   ORB   TRB   AST  STL  BLK   TOV  \\\n",
       "0  1.4  0.428571  21.1  30.1  0.700997  13.4  42.3  21.6  7.7  8.9  17.4   \n",
       "1  2.3  0.260870  26.9  33.5  0.802985  15.4  45.9  27.6  7.6  4.8  17.3   \n",
       "2  1.8  0.166667  23.6  31.5  0.749206  13.9  41.6  25.2  9.4  5.5  17.6   \n",
       "3  2.6  0.307692  19.1  25.6  0.746094  14.3  44.0  23.1  7.6  5.2  17.1   \n",
       "4  1.8  0.111111  25.4  33.8  0.751479  14.9  44.5  27.9  8.3  4.5  14.7   \n",
       "\n",
       "     PF    PTS  OP-FG  OP-FGA  OP_FG Miss%  OP-3P  OP-3PA  OP_3P Miss%  OP-FT  \\\n",
       "0  27.3  100.5   38.9    84.9     0.541814    0.4     1.9     0.789474   24.7   \n",
       "1  23.9  115.9   43.6    92.4     0.528139    1.1     3.5     0.685714   20.8   \n",
       "2  29.4  105.9   41.8    86.6     0.517321    0.5     2.2     0.772727   26.8   \n",
       "3  28.0  103.1   40.6    85.1     0.522914    0.5     2.1     0.761905   24.1   \n",
       "4  22.8  110.4   44.2    92.2     0.520607    0.9     2.9     0.689655   19.6   \n",
       "\n",
       "   OP-FTA  OP_FT Miss%  OP-ORB  OP-TRB  OP-AST  OP-STL  OP-BLK  OP-TOV  OP-PF  \\\n",
       "0    33.2     0.256024    15.8    44.6    23.2     7.1     4.9    15.9   25.5   \n",
       "1    27.3     0.238095    14.4    41.1    23.8     9.0     4.1    14.8   27.5   \n",
       "2    34.0     0.211765    14.3    46.9    25.4    10.8     8.6    17.6   26.4   \n",
       "3    32.7     0.262997    12.9    41.1    26.1     7.5     3.9    14.5   21.7   \n",
       "4    25.8     0.240310    16.6    45.2    26.7     7.8     4.8    17.6   29.0   \n",
       "\n",
       "   OP-PTS  \n",
       "0   102.9  \n",
       "1   109.1  \n",
       "2   110.9  \n",
       "3   105.9  \n",
       "4   109.0  "
      ]
     },
     "execution_count": 3,
     "metadata": {},
     "output_type": "execute_result"
    }
   ],
   "source": [
    "DF_84 = pd.read_pickle('DF_84')\n",
    "pd.set_option('display.max_columns', None)\n",
    "DF_84.head()\n"
   ]
  },
  {
   "cell_type": "markdown",
   "metadata": {},
   "source": [
    "A long list of stats were collected, each of them holding their own definition and importance. While the stats themselves are useful, it is necessary to normalize all of them to a percent above or below the league average. This allows for comparison between two categories that typically would not be comparable (such as Win% and AST). Percentage based statistics were calculated and added to the dataframe. Due to the amount of stats, the more relevant definitions will be explained here. A full list of explanations can be found on *Basketball Reference*.  \n",
    "- Team is the abbreviated team name.  \n",
    "- G, W, and L are the amount of games played, their wins, and their losses respectively. Win% is just the team's wins divide by their total number of games.  \n",
    "- FG and FGA are just the amount of field goals (baskets) made by a team and the amount of field goals attempted respectively. FG% is just FG divided by FGA.  \n",
    "- The trio of stats for both 3P and FT are similar to the FG definitions but for the three pointer and free throw respectively.  \n",
    "- TRB, AST, and STL are total rebounds, assists, and steals.  \n",
    "- BLK, TOV, and PF are the blocks, turnovers, and personal fouls.  \n",
    "- PTS are the amount of points the team has scored.  \n",
    "- The rest of the stats that have OP in front of them are the stats of the opponents that the team has faced.  \n",
    "  \n",
    "With the statistics properly formatted, the analysis can begin.  \n",
    "  \n"
   ]
  },
  {
   "cell_type": "markdown",
   "metadata": {},
   "source": [
    "#### Analytic Questions\n",
    "  \n",
    "It is now important to ask questions that, if were answered, could be important to a concerned party such as the league, teams, sports news outlets, or fans.  \n",
    "1. Which stats in the month of November are most indicative of a playoff birth?  \n",
    "2. Do these stats vary over time in their correlation to a playoff birth?  \n",
    "3. Can these factors be used to predict the playoff teams for the three most recent seasons?"
   ]
  },
  {
   "cell_type": "markdown",
   "metadata": {},
   "source": [
    "### Evaluating Statistical Importance  \n",
    "  \n",
    "#### Correlation Factor\n",
    "  \n",
    "In order to predict which teams will succeed in making the playoffs, it was necessary to figure out which stats best correlated with a playoff birth. To do this, each team was ranked from highest to lowest for each individual stat. The amount of teams in the top 16 were tallied and then divided by 16. This created a correlation factor for each statistic that shows how indicative it is at predicting a playoff birth for that season. The top 5 correlation factors were then plotted. This process was repeated for each year, from 1984 to 2006."
   ]
  },
  {
   "cell_type": "markdown",
   "metadata": {},
   "source": [
    "![title](TopFive_NoW.png)"
   ]
  },
  {
   "cell_type": "markdown",
   "metadata": {},
   "source": [
    "#### Weighting\n",
    "\n",
    "As you can see, the correlation factors seem to be decreasing as the years go by. From 1984 to 2000 to 2016, it would seem that the league is becoming more difficult to predict. The reason for this is quite simplly due to the number of teams increasing over the years. While the top 16 teams always make the playoffs, the number of teams that don't has steadily increased. In 1984, only 7 teams did not make the playoffs (23 total teams). By 2000, 13 teams did not make the playoffs (29 teams). Currently, there are 30 teams in the league. Therefore, 14 of them miss out on the playoffs.  \n",
    "  \n",
    "By themselves, these statistics are useful but not exactly what is needed. Comparing the correlation factors over time is necessary to create a predictive model for the three most recent seasons. The factors must be compared on equal ground. In order to do this, a weighting function must be introduced. Since the teams that don't make the playoffs is the changing variable, the weighting function will be based on that. Therefore, each correlation factor will be multiplied by a fraction of the number of teams that missed the playoffs that particular year by the current number of teams that miss the playoffs. Thus, the weighting factor for 1984, 2000, and 2016 are 7/14, 13/14, and 14/14 (1) respectively. Adding this weighting function shows a more consistant top 5 correlation factors throughout the years.  "
   ]
  },
  {
   "cell_type": "markdown",
   "metadata": {},
   "source": [
    "![title](TopFive_W.png)"
   ]
  },
  {
   "cell_type": "markdown",
   "metadata": {},
   "source": [
    "#### Top Correlation  \n",
    "  \n",
    "To focus in on the most important statistics, the number of appearances they made in the top 5 were graphed."
   ]
  },
  {
   "cell_type": "markdown",
   "metadata": {},
   "source": [
    "![title](App_TopFive.png)"
   ]
  },
  {
   "cell_type": "markdown",
   "metadata": {},
   "source": [
    "Here, it is obvious that the Win% is the most important factor in November that is related to a playoff birth at the end of the season. A team's field goal defense (OP-FG Miss%), number of assists (AST), three point percentage (3P%), and field goal percentage (FG%) are also factors that contribute to a teams success. Thus, we have found the answer to our first question. However, it is obvious that the league changes as the years go by. Therefore, it is important to see if there are factors that become more relevant as the current seasons are approached because they could be used to correctly predict a team's playoff birth.  \n",
    "  \n",
    "  \n",
    "#### Correlation Over Time"
   ]
  },
  {
   "cell_type": "markdown",
   "metadata": {},
   "source": [
    "![title](Correlation_F_WinPer.png)  \n",
    "  \n",
    "Mapping the correlation factor over time along with a linear fit shows the fluctuation of a stat, in this case Win%. This analysis was performed on each statistic to see the behavior over time."
   ]
  },
  {
   "cell_type": "markdown",
   "metadata": {},
   "source": [
    "![title](Correlation_Over_Time.png)"
   ]
  },
  {
   "cell_type": "markdown",
   "metadata": {},
   "source": [
    "Of the most frequent factors, Win% and OP-FG Miss% are increasing in their correlation while AST, FG% and 3P% are decreasing. In fact, most of the statistics across the board have decreased by more than 5% since 1984. It is interesting to note that 3P defense (OP-3P Miss%) is one of the few factors that has either stayed the same or slightly increased with time. These 6 factors that are either the most correlated, increasing in correlation over time, or both can now be used to predict a team's playoff birth. Thus, the answer to the second question is that the correlation factor does fluctuate over time.  \n",
    "  "
   ]
  },
  {
   "cell_type": "markdown",
   "metadata": {},
   "source": [
    "### Creating The Predictive Model  \n",
    "  \n",
    "In order to predict which teams are going to make the playoffs in 2017, a scoring system was created based off of these 6 stats. Each factor adds a certain value based on how well they are doing against the league average. This value is also weighted based on the average correlation factor of that statistic. Thus, a team's win percentage is more important than their three point percentage. The 16 teams with the highest scoring factor are the predicted playoff teams. An error is then calculated from the amount of teams that were predicted to have a playoff birth but ended up missing out. This process is repeated for the 2018 and 2019 seasons and the error is posted below."
   ]
  },
  {
   "cell_type": "markdown",
   "metadata": {},
   "source": [
    "### Results"
   ]
  },
  {
   "cell_type": "code",
   "execution_count": 3,
   "metadata": {},
   "outputs": [
    {
     "data": {
      "text/html": [
       "<div>\n",
       "<style scoped>\n",
       "    .dataframe tbody tr th:only-of-type {\n",
       "        vertical-align: middle;\n",
       "    }\n",
       "\n",
       "    .dataframe tbody tr th {\n",
       "        vertical-align: top;\n",
       "    }\n",
       "\n",
       "    .dataframe thead th {\n",
       "        text-align: right;\n",
       "    }\n",
       "</style>\n",
       "<table border=\"1\" class=\"dataframe\">\n",
       "  <thead>\n",
       "    <tr style=\"text-align: right;\">\n",
       "      <th></th>\n",
       "      <th>Year</th>\n",
       "      <th>Accuracy(%)</th>\n",
       "      <th>Percent Error (%)</th>\n",
       "    </tr>\n",
       "  </thead>\n",
       "  <tbody>\n",
       "    <tr>\n",
       "      <th>0</th>\n",
       "      <td>2017</td>\n",
       "      <td>87.50</td>\n",
       "      <td>12.50</td>\n",
       "    </tr>\n",
       "    <tr>\n",
       "      <th>1</th>\n",
       "      <td>2018</td>\n",
       "      <td>81.25</td>\n",
       "      <td>18.75</td>\n",
       "    </tr>\n",
       "    <tr>\n",
       "      <th>2</th>\n",
       "      <td>2019</td>\n",
       "      <td>75.00</td>\n",
       "      <td>25.00</td>\n",
       "    </tr>\n",
       "    <tr>\n",
       "      <th>3</th>\n",
       "      <td>Average</td>\n",
       "      <td>81.25</td>\n",
       "      <td>18.75</td>\n",
       "    </tr>\n",
       "  </tbody>\n",
       "</table>\n",
       "</div>"
      ],
      "text/plain": [
       "      Year  Accuracy(%)  Percent Error (%)\n",
       "0     2017        87.50              12.50\n",
       "1     2018        81.25              18.75\n",
       "2     2019        75.00              25.00\n",
       "3  Average        81.25              18.75"
      ]
     },
     "execution_count": 3,
     "metadata": {},
     "output_type": "execute_result"
    }
   ],
   "source": [
    "ER_DF = pd.read_pickle('Recent Pred')\n",
    "ER_DF"
   ]
  },
  {
   "cell_type": "markdown",
   "metadata": {},
   "source": [
    "These accuracies show the success of the predictive model. On average, it correctly predicted 13 of the 16 playoff teams over the course of the last three current seasons. When retroactively looking at previous seasons, the same average behavior is seen. The predictive accuracy is about 79% with a standard deviation of 7.6% and peaking as high as 94%. This proves that is it possible to predict playoff births with a fair amount of confidence."
   ]
  },
  {
   "cell_type": "markdown",
   "metadata": {},
   "source": [
    "![title](ACC_Year.png)"
   ]
  },
  {
   "cell_type": "markdown",
   "metadata": {},
   "source": [
    "### Future Research  \n",
    "  \n",
    "While this model has fairly high accuracy, there could be possible ways to increase its predictive power. One such method would be to split the teams into their conferences and conduct the analysis separately. Although 16 teams make the playoffs, it is not necessary always the top 16 overall. The league has two conferences and takes the top 8 from each. If one conference is much stronger than the other, this can create errors within the predictions. This separation can help protect the model from such imbalances within the league. Another improvement would take into account injuries that severely impacts a team. A superstar being injured at the beginning of a season but returning later would not be taken into account by this model. The same goes for a superstar who was injured right after the month of November. Each scenario would create a skewed prediction that would most likely be incorrect."
   ]
  },
  {
   "cell_type": "code",
   "execution_count": null,
   "metadata": {},
   "outputs": [],
   "source": []
  }
 ],
 "metadata": {
  "kernelspec": {
   "display_name": "Python 3",
   "language": "python",
   "name": "python3"
  },
  "language_info": {
   "codemirror_mode": {
    "name": "ipython",
    "version": 3
   },
   "file_extension": ".py",
   "mimetype": "text/x-python",
   "name": "python",
   "nbconvert_exporter": "python",
   "pygments_lexer": "ipython3",
   "version": "3.7.3"
  }
 },
 "nbformat": 4,
 "nbformat_minor": 2
}
